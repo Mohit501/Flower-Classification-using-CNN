{
 "cells": [
  {
   "cell_type": "markdown",
   "id": "certified-wrist",
   "metadata": {
    "papermill": {
     "duration": 0.016849,
     "end_time": "2021-03-29T07:38:43.755990",
     "exception": false,
     "start_time": "2021-03-29T07:38:43.739141",
     "status": "completed"
    },
    "tags": []
   },
   "source": [
    "# **Importing Required Libraries**"
   ]
  },
  {
   "cell_type": "code",
   "execution_count": 1,
   "id": "maritime-harvey",
   "metadata": {
    "execution": {
     "iopub.execute_input": "2021-03-29T07:38:43.795267Z",
     "iopub.status.busy": "2021-03-29T07:38:43.794581Z",
     "iopub.status.idle": "2021-03-29T07:38:49.290360Z",
     "shell.execute_reply": "2021-03-29T07:38:49.289677Z"
    },
    "papermill": {
     "duration": 5.518368,
     "end_time": "2021-03-29T07:38:49.290531",
     "exception": false,
     "start_time": "2021-03-29T07:38:43.772163",
     "status": "completed"
    },
    "tags": []
   },
   "outputs": [],
   "source": [
    "import numpy as np\n",
    "import pandas as pd \n",
    "from pathlib import Path\n",
    "import os\n",
    "import matplotlib.pyplot as plt\n",
    "from keras.layers import Conv2D,Dense,Dropout,Input,Flatten,MaxPooling2D\n",
    "from keras.models import Model\n",
    "from keras.utils import plot_model,to_categorical\n",
    "from sklearn.model_selection import train_test_split\n",
    "from keras.preprocessing import image"
   ]
  },
  {
   "cell_type": "markdown",
   "id": "fluid-elizabeth",
   "metadata": {
    "papermill": {
     "duration": 0.015475,
     "end_time": "2021-03-29T07:38:49.321842",
     "exception": false,
     "start_time": "2021-03-29T07:38:49.306367",
     "status": "completed"
    },
    "tags": []
   },
   "source": [
    "# **Loading Images**"
   ]
  },
  {
   "cell_type": "code",
   "execution_count": 2,
   "id": "encouraging-investigator",
   "metadata": {
    "execution": {
     "iopub.execute_input": "2021-03-29T07:38:49.360029Z",
     "iopub.status.busy": "2021-03-29T07:38:49.359380Z",
     "iopub.status.idle": "2021-03-29T07:39:16.079260Z",
     "shell.execute_reply": "2021-03-29T07:39:16.078298Z"
    },
    "papermill": {
     "duration": 26.742747,
     "end_time": "2021-03-29T07:39:16.079403",
     "exception": false,
     "start_time": "2021-03-29T07:38:49.336656",
     "status": "completed"
    },
    "tags": []
   },
   "outputs": [
    {
     "name": "stdout",
     "output_type": "stream",
     "text": [
      "dandelion\n",
      "daisy\n",
      "flowers\n",
      "sunflower\n",
      "tulip\n",
      "rose\n"
     ]
    }
   ],
   "source": [
    "from keras.preprocessing import image\n",
    "p = Path('../input/flowers-recognition/flowers')\n",
    "dirs = p.glob('*')\n",
    "image_data = []\n",
    "labels = []\n",
    "label_dict = {'dandelion':0,'daisy':1,'flowers':2,'sunflower':3,'tulip':4,'rose':5}\n",
    "for folder_dir in dirs:\n",
    "    label= str(folder_dir).split('/')[-1]\n",
    "    cnt = 0\n",
    "    print(label)\n",
    "    for image_path in folder_dir.glob('*.jpg'):\n",
    "        img = image.load_img(image_path,target_size = (64,64))\n",
    "        img_array = image.img_to_array(img)\n",
    "        image_data.append(img_array)\n",
    "        labels.append(label_dict[label])\n",
    "    "
   ]
  },
  {
   "cell_type": "code",
   "execution_count": 3,
   "id": "incredible-accuracy",
   "metadata": {
    "execution": {
     "iopub.execute_input": "2021-03-29T07:39:16.118522Z",
     "iopub.status.busy": "2021-03-29T07:39:16.117877Z",
     "iopub.status.idle": "2021-03-29T07:39:16.123404Z",
     "shell.execute_reply": "2021-03-29T07:39:16.122810Z"
    },
    "papermill": {
     "duration": 0.02738,
     "end_time": "2021-03-29T07:39:16.123556",
     "exception": false,
     "start_time": "2021-03-29T07:39:16.096176",
     "status": "completed"
    },
    "tags": []
   },
   "outputs": [
    {
     "name": "stdout",
     "output_type": "stream",
     "text": [
      "4323 4323\n"
     ]
    }
   ],
   "source": [
    "print(len(image_data),len(labels))"
   ]
  },
  {
   "cell_type": "code",
   "execution_count": 4,
   "id": "positive-choir",
   "metadata": {
    "execution": {
     "iopub.execute_input": "2021-03-29T07:39:16.162089Z",
     "iopub.status.busy": "2021-03-29T07:39:16.161508Z",
     "iopub.status.idle": "2021-03-29T07:39:16.233017Z",
     "shell.execute_reply": "2021-03-29T07:39:16.232516Z"
    },
    "papermill": {
     "duration": 0.092424,
     "end_time": "2021-03-29T07:39:16.233156",
     "exception": false,
     "start_time": "2021-03-29T07:39:16.140732",
     "status": "completed"
    },
    "tags": []
   },
   "outputs": [],
   "source": [
    "x = np.array(image_data)\n",
    "y = np.array(labels)"
   ]
  },
  {
   "cell_type": "code",
   "execution_count": 5,
   "id": "quality-harvey",
   "metadata": {
    "execution": {
     "iopub.execute_input": "2021-03-29T07:39:16.274143Z",
     "iopub.status.busy": "2021-03-29T07:39:16.273174Z",
     "iopub.status.idle": "2021-03-29T07:39:16.277530Z",
     "shell.execute_reply": "2021-03-29T07:39:16.277115Z"
    },
    "papermill": {
     "duration": 0.027228,
     "end_time": "2021-03-29T07:39:16.277648",
     "exception": false,
     "start_time": "2021-03-29T07:39:16.250420",
     "status": "completed"
    },
    "tags": []
   },
   "outputs": [
    {
     "data": {
      "text/plain": [
       "(4323, 64, 64, 3)"
      ]
     },
     "execution_count": 5,
     "metadata": {},
     "output_type": "execute_result"
    }
   ],
   "source": [
    "x.shape"
   ]
  },
  {
   "cell_type": "code",
   "execution_count": 6,
   "id": "ignored-optimization",
   "metadata": {
    "execution": {
     "iopub.execute_input": "2021-03-29T07:39:16.318152Z",
     "iopub.status.busy": "2021-03-29T07:39:16.317233Z",
     "iopub.status.idle": "2021-03-29T07:39:16.320686Z",
     "shell.execute_reply": "2021-03-29T07:39:16.321127Z"
    },
    "papermill": {
     "duration": 0.026441,
     "end_time": "2021-03-29T07:39:16.321282",
     "exception": false,
     "start_time": "2021-03-29T07:39:16.294841",
     "status": "completed"
    },
    "tags": []
   },
   "outputs": [
    {
     "data": {
      "text/plain": [
       "(4323,)"
      ]
     },
     "execution_count": 6,
     "metadata": {},
     "output_type": "execute_result"
    }
   ],
   "source": [
    "y.shape"
   ]
  },
  {
   "cell_type": "markdown",
   "id": "upper-produce",
   "metadata": {
    "papermill": {
     "duration": 0.017306,
     "end_time": "2021-03-29T07:39:16.356080",
     "exception": false,
     "start_time": "2021-03-29T07:39:16.338774",
     "status": "completed"
    },
    "tags": []
   },
   "source": [
    "# Visualizing Images"
   ]
  },
  {
   "cell_type": "code",
   "execution_count": 7,
   "id": "thermal-satisfaction",
   "metadata": {
    "execution": {
     "iopub.execute_input": "2021-03-29T07:39:16.395745Z",
     "iopub.status.busy": "2021-03-29T07:39:16.395207Z",
     "iopub.status.idle": "2021-03-29T07:39:16.399463Z",
     "shell.execute_reply": "2021-03-29T07:39:16.399028Z"
    },
    "papermill": {
     "duration": 0.025973,
     "end_time": "2021-03-29T07:39:16.399576",
     "exception": false,
     "start_time": "2021-03-29T07:39:16.373603",
     "status": "completed"
    },
    "tags": []
   },
   "outputs": [],
   "source": [
    "def draw_flower(img,label):\n",
    "    plt.imshow(img)\n",
    "    plt.title(label)"
   ]
  },
  {
   "cell_type": "code",
   "execution_count": 8,
   "id": "presidential-craft",
   "metadata": {
    "execution": {
     "iopub.execute_input": "2021-03-29T07:39:16.455914Z",
     "iopub.status.busy": "2021-03-29T07:39:16.454740Z",
     "iopub.status.idle": "2021-03-29T07:39:16.582619Z",
     "shell.execute_reply": "2021-03-29T07:39:16.582114Z"
    },
    "papermill": {
     "duration": 0.165347,
     "end_time": "2021-03-29T07:39:16.582749",
     "exception": false,
     "start_time": "2021-03-29T07:39:16.417402",
     "status": "completed"
    },
    "tags": []
   },
   "outputs": [
    {
     "data": {
      "image/png": "[encoded data removed]",
      "text/plain": [
       "<Figure size 432x288 with 1 Axes>"
      ]
     },
     "metadata": {
      "needs_background": "light"
     },
     "output_type": "display_data"
    }
   ],
   "source": [
    "draw_flower(x[20]/255.0,y[20])"
   ]
  },
  {
   "cell_type": "markdown",
   "id": "indoor-withdrawal",
   "metadata": {
    "papermill": {
     "duration": 0.019026,
     "end_time": "2021-03-29T07:39:16.620978",
     "exception": false,
     "start_time": "2021-03-29T07:39:16.601952",
     "status": "completed"
    },
    "tags": []
   },
   "source": [
    "# Preprocessing"
   ]
  },
  {
   "cell_type": "code",
   "execution_count": 9,
   "id": "hybrid-italic",
   "metadata": {
    "execution": {
     "iopub.execute_input": "2021-03-29T07:39:16.666124Z",
     "iopub.status.busy": "2021-03-29T07:39:16.664564Z",
     "iopub.status.idle": "2021-03-29T07:39:16.667802Z",
     "shell.execute_reply": "2021-03-29T07:39:16.667365Z"
    },
    "papermill": {
     "duration": 0.027025,
     "end_time": "2021-03-29T07:39:16.667929",
     "exception": false,
     "start_time": "2021-03-29T07:39:16.640904",
     "status": "completed"
    },
    "tags": []
   },
   "outputs": [],
   "source": [
    "num_labels = len(np.unique(y))\n"
   ]
  },
  {
   "cell_type": "code",
   "execution_count": 10,
   "id": "loved-resource",
   "metadata": {
    "execution": {
     "iopub.execute_input": "2021-03-29T07:39:16.712961Z",
     "iopub.status.busy": "2021-03-29T07:39:16.711773Z",
     "iopub.status.idle": "2021-03-29T07:39:16.778417Z",
     "shell.execute_reply": "2021-03-29T07:39:16.777949Z"
    },
    "papermill": {
     "duration": 0.091115,
     "end_time": "2021-03-29T07:39:16.778550",
     "exception": false,
     "start_time": "2021-03-29T07:39:16.687435",
     "status": "completed"
    },
    "tags": []
   },
   "outputs": [],
   "source": [
    "x_train,x_test,y_train,y_test = train_test_split(x,y,test_size = 0.25)"
   ]
  },
  {
   "cell_type": "code",
   "execution_count": 11,
   "id": "veterinary-perfume",
   "metadata": {
    "execution": {
     "iopub.execute_input": "2021-03-29T07:39:16.822014Z",
     "iopub.status.busy": "2021-03-29T07:39:16.821452Z",
     "iopub.status.idle": "2021-03-29T07:39:16.827330Z",
     "shell.execute_reply": "2021-03-29T07:39:16.826903Z"
    },
    "papermill": {
     "duration": 0.028337,
     "end_time": "2021-03-29T07:39:16.827433",
     "exception": false,
     "start_time": "2021-03-29T07:39:16.799096",
     "status": "completed"
    },
    "tags": []
   },
   "outputs": [
    {
     "data": {
      "text/plain": [
       "(3242, 64, 64, 3)"
      ]
     },
     "execution_count": 11,
     "metadata": {},
     "output_type": "execute_result"
    }
   ],
   "source": [
    "x_train.shape"
   ]
  },
  {
   "cell_type": "code",
   "execution_count": 12,
   "id": "vital-lawrence",
   "metadata": {
    "execution": {
     "iopub.execute_input": "2021-03-29T07:39:16.871857Z",
     "iopub.status.busy": "2021-03-29T07:39:16.871306Z",
     "iopub.status.idle": "2021-03-29T07:39:16.877338Z",
     "shell.execute_reply": "2021-03-29T07:39:16.876913Z"
    },
    "papermill": {
     "duration": 0.02945,
     "end_time": "2021-03-29T07:39:16.877444",
     "exception": false,
     "start_time": "2021-03-29T07:39:16.847994",
     "status": "completed"
    },
    "tags": []
   },
   "outputs": [
    {
     "data": {
      "text/plain": [
       "(1081, 64, 64, 3)"
      ]
     },
     "execution_count": 12,
     "metadata": {},
     "output_type": "execute_result"
    }
   ],
   "source": [
    "x_test.shape"
   ]
  },
  {
   "cell_type": "code",
   "execution_count": 13,
   "id": "vocal-morning",
   "metadata": {
    "execution": {
     "iopub.execute_input": "2021-03-29T07:39:16.921970Z",
     "iopub.status.busy": "2021-03-29T07:39:16.920924Z",
     "iopub.status.idle": "2021-03-29T07:39:16.989227Z",
     "shell.execute_reply": "2021-03-29T07:39:16.988726Z"
    },
    "papermill": {
     "duration": 0.092314,
     "end_time": "2021-03-29T07:39:16.989350",
     "exception": false,
     "start_time": "2021-03-29T07:39:16.897036",
     "status": "completed"
    },
    "tags": []
   },
   "outputs": [],
   "source": [
    "image_size = x_train.shape[1]\n",
    "x_train = np.reshape(x_train,[-1,image_size,image_size,3])\n",
    "x_test = np.reshape(x_test,[-1,image_size,image_size,3])\n",
    "x_train = x_train/255.0\n",
    "x_test = x_test/255.0"
   ]
  },
  {
   "cell_type": "code",
   "execution_count": 14,
   "id": "excellent-gardening",
   "metadata": {
    "execution": {
     "iopub.execute_input": "2021-03-29T07:39:17.034455Z",
     "iopub.status.busy": "2021-03-29T07:39:17.033757Z",
     "iopub.status.idle": "2021-03-29T07:39:17.036654Z",
     "shell.execute_reply": "2021-03-29T07:39:17.036259Z"
    },
    "papermill": {
     "duration": 0.027555,
     "end_time": "2021-03-29T07:39:17.036786",
     "exception": false,
     "start_time": "2021-03-29T07:39:17.009231",
     "status": "completed"
    },
    "tags": []
   },
   "outputs": [],
   "source": [
    "y_train = to_categorical(y_train)\n"
   ]
  },
  {
   "cell_type": "markdown",
   "id": "noble-norwegian",
   "metadata": {
    "papermill": {
     "duration": 0.019887,
     "end_time": "2021-03-29T07:39:17.076634",
     "exception": false,
     "start_time": "2021-03-29T07:39:17.056747",
     "status": "completed"
    },
    "tags": []
   },
   "source": [
    "# **Building a Convolutional Neural Network to Classify flowers**"
   ]
  },
  {
   "cell_type": "code",
   "execution_count": 15,
   "id": "functional-gamma",
   "metadata": {
    "execution": {
     "iopub.execute_input": "2021-03-29T07:39:17.121029Z",
     "iopub.status.busy": "2021-03-29T07:39:17.120383Z",
     "iopub.status.idle": "2021-03-29T07:39:17.125632Z",
     "shell.execute_reply": "2021-03-29T07:39:17.125215Z"
    },
    "papermill": {
     "duration": 0.029206,
     "end_time": "2021-03-29T07:39:17.125749",
     "exception": false,
     "start_time": "2021-03-29T07:39:17.096543",
     "status": "completed"
    },
    "tags": []
   },
   "outputs": [
    {
     "data": {
      "text/plain": [
       "array([0, 1, 3, 4, 5])"
      ]
     },
     "execution_count": 15,
     "metadata": {},
     "output_type": "execute_result"
    }
   ],
   "source": [
    "np.unique(y_test)"
   ]
  },
  {
   "cell_type": "code",
   "execution_count": 16,
   "id": "accepted-architect",
   "metadata": {
    "execution": {
     "iopub.execute_input": "2021-03-29T07:39:17.173260Z",
     "iopub.status.busy": "2021-03-29T07:39:17.172671Z",
     "iopub.status.idle": "2021-03-29T07:39:20.677428Z",
     "shell.execute_reply": "2021-03-29T07:39:20.676995Z"
    },
    "papermill": {
     "duration": 3.53173,
     "end_time": "2021-03-29T07:39:20.677550",
     "exception": false,
     "start_time": "2021-03-29T07:39:17.145820",
     "status": "completed"
    },
    "tags": []
   },
   "outputs": [
    {
     "name": "stdout",
     "output_type": "stream",
     "text": [
      "Model: \"model\"\n",
      "_________________________________________________________________\n",
      "Layer (type)                 Output Shape              Param #   \n",
      "=================================================================\n",
      "input_1 (InputLayer)         [(None, 64, 64, 3)]       0         \n",
      "_________________________________________________________________\n",
      "conv2d (Conv2D)              (None, 64, 64, 32)        416       \n",
      "_________________________________________________________________\n",
      "max_pooling2d (MaxPooling2D) (None, 32, 32, 32)        0         \n",
      "_________________________________________________________________\n",
      "conv2d_1 (Conv2D)            (None, 32, 32, 64)        8256      \n",
      "_________________________________________________________________\n",
      "max_pooling2d_1 (MaxPooling2 (None, 16, 16, 64)        0         \n",
      "_________________________________________________________________\n",
      "conv2d_2 (Conv2D)            (None, 16, 16, 128)       32896     \n",
      "_________________________________________________________________\n",
      "conv2d_3 (Conv2D)            (None, 16, 16, 256)       131328    \n",
      "_________________________________________________________________\n",
      "dropout (Dropout)            (None, 16, 16, 256)       0         \n",
      "_________________________________________________________________\n",
      "flatten (Flatten)            (None, 65536)             0         \n",
      "_________________________________________________________________\n",
      "dense (Dense)                (None, 6)                 393222    \n",
      "=================================================================\n",
      "Total params: 566,118\n",
      "Trainable params: 566,118\n",
      "Non-trainable params: 0\n",
      "_________________________________________________________________\n"
     ]
    },
    {
     "data": {
      "image/png": "[encoded data removed]",
      "text/plain": [
       "<IPython.core.display.Image object>"
      ]
     },
     "execution_count": 16,
     "metadata": {},
     "output_type": "execute_result"
    }
   ],
   "source": [
    "input_shape = (64,64,3)\n",
    "inputs = Input(shape = input_shape)\n",
    "x = inputs\n",
    "x = Conv2D(32,kernel_size = 2,activation = 'relu',strides = 1,padding = 'same')(x)\n",
    "x = MaxPooling2D(pool_size = (2,2))(x)\n",
    "\n",
    "x = Conv2D(64,kernel_size = 2,activation = 'relu',strides = 1,padding = 'same')(x)\n",
    "x = MaxPooling2D(pool_size = (2,2))(x)\n",
    "\n",
    "\n",
    "x = Conv2D(128,kernel_size = 2,activation = 'relu',strides = 1,padding = 'same')(x)\n",
    "x = Conv2D(256,kernel_size = 2,activation = 'relu',strides = 1,padding = 'same')(x)\n",
    "x = Dropout(0.25)(x)\n",
    "x = Flatten()(x)\n",
    "outputs = Dense(6,activation = 'softmax')(x)\n",
    "flower_classifier = Model(inputs,outputs)\n",
    "\n",
    "flower_classifier.summary()\n",
    "plot_model(flower_classifier)"
   ]
  },
  {
   "cell_type": "code",
   "execution_count": 17,
   "id": "cleared-cigarette",
   "metadata": {
    "execution": {
     "iopub.execute_input": "2021-03-29T07:39:20.736832Z",
     "iopub.status.busy": "2021-03-29T07:39:20.735810Z",
     "iopub.status.idle": "2021-03-29T07:39:20.751072Z",
     "shell.execute_reply": "2021-03-29T07:39:20.752066Z"
    },
    "papermill": {
     "duration": 0.052128,
     "end_time": "2021-03-29T07:39:20.752265",
     "exception": false,
     "start_time": "2021-03-29T07:39:20.700137",
     "status": "completed"
    },
    "tags": []
   },
   "outputs": [],
   "source": [
    "flower_classifier.compile(loss = 'categorical_crossentropy',optimizer = 'adam',metrics = ['accuracy'])"
   ]
  },
  {
   "cell_type": "code",
   "execution_count": 18,
   "id": "secondary-taste",
   "metadata": {
    "execution": {
     "iopub.execute_input": "2021-03-29T07:39:20.834367Z",
     "iopub.status.busy": "2021-03-29T07:39:20.833557Z",
     "iopub.status.idle": "2021-03-29T07:39:20.839011Z",
     "shell.execute_reply": "2021-03-29T07:39:20.837906Z"
    },
    "papermill": {
     "duration": 0.0507,
     "end_time": "2021-03-29T07:39:20.839285",
     "exception": false,
     "start_time": "2021-03-29T07:39:20.788585",
     "status": "completed"
    },
    "tags": []
   },
   "outputs": [
    {
     "data": {
      "text/plain": [
       "(3242, 6)"
      ]
     },
     "execution_count": 18,
     "metadata": {},
     "output_type": "execute_result"
    }
   ],
   "source": [
    "y_train.shape"
   ]
  },
  {
   "cell_type": "code",
   "execution_count": 19,
   "id": "dental-moral",
   "metadata": {
    "execution": {
     "iopub.execute_input": "2021-03-29T07:39:20.922529Z",
     "iopub.status.busy": "2021-03-29T07:39:20.921659Z",
     "iopub.status.idle": "2021-03-29T07:39:39.159171Z",
     "shell.execute_reply": "2021-03-29T07:39:39.159620Z"
    },
    "papermill": {
     "duration": 18.28229,
     "end_time": "2021-03-29T07:39:39.159780",
     "exception": false,
     "start_time": "2021-03-29T07:39:20.877490",
     "status": "completed"
    },
    "tags": []
   },
   "outputs": [
    {
     "name": "stdout",
     "output_type": "stream",
     "text": [
      "Epoch 1/30\n",
      "26/26 [==============================] - 4s 22ms/step - loss: 1.6088 - accuracy: 0.2876\n",
      "Epoch 2/30\n",
      "26/26 [==============================] - 0s 18ms/step - loss: 1.2010 - accuracy: 0.4920\n",
      "Epoch 3/30\n",
      "26/26 [==============================] - 0s 18ms/step - loss: 1.0708 - accuracy: 0.5811\n",
      "Epoch 4/30\n",
      "26/26 [==============================] - 0s 18ms/step - loss: 0.9727 - accuracy: 0.6142\n",
      "Epoch 5/30\n",
      "26/26 [==============================] - 0s 18ms/step - loss: 0.8932 - accuracy: 0.6421\n",
      "Epoch 6/30\n",
      "26/26 [==============================] - 0s 18ms/step - loss: 0.7983 - accuracy: 0.7048\n",
      "Epoch 7/30\n",
      "26/26 [==============================] - 0s 18ms/step - loss: 0.7579 - accuracy: 0.7115\n",
      "Epoch 8/30\n",
      "26/26 [==============================] - 0s 18ms/step - loss: 0.6922 - accuracy: 0.7498\n",
      "Epoch 9/30\n",
      "26/26 [==============================] - 0s 18ms/step - loss: 0.5880 - accuracy: 0.8040\n",
      "Epoch 10/30\n",
      "26/26 [==============================] - 0s 18ms/step - loss: 0.4946 - accuracy: 0.8337\n",
      "Epoch 11/30\n",
      "26/26 [==============================] - 0s 18ms/step - loss: 0.4495 - accuracy: 0.8356\n",
      "Epoch 12/30\n",
      "26/26 [==============================] - 0s 18ms/step - loss: 0.3289 - accuracy: 0.8879\n",
      "Epoch 13/30\n",
      "26/26 [==============================] - 0s 18ms/step - loss: 0.3047 - accuracy: 0.8935\n",
      "Epoch 14/30\n",
      "26/26 [==============================] - 0s 19ms/step - loss: 0.2530 - accuracy: 0.9190\n",
      "Epoch 15/30\n",
      "26/26 [==============================] - 0s 19ms/step - loss: 0.1769 - accuracy: 0.9486\n",
      "Epoch 16/30\n",
      "26/26 [==============================] - 0s 19ms/step - loss: 0.1354 - accuracy: 0.9633\n",
      "Epoch 17/30\n",
      "26/26 [==============================] - 1s 19ms/step - loss: 0.1029 - accuracy: 0.9694\n",
      "Epoch 18/30\n",
      "26/26 [==============================] - 0s 18ms/step - loss: 0.0987 - accuracy: 0.9748\n",
      "Epoch 19/30\n",
      "26/26 [==============================] - 0s 18ms/step - loss: 0.0526 - accuracy: 0.9889\n",
      "Epoch 20/30\n",
      "26/26 [==============================] - 0s 19ms/step - loss: 0.0686 - accuracy: 0.9805\n",
      "Epoch 21/30\n",
      "26/26 [==============================] - 0s 18ms/step - loss: 0.0612 - accuracy: 0.9871\n",
      "Epoch 22/30\n",
      "26/26 [==============================] - 0s 19ms/step - loss: 0.0374 - accuracy: 0.9937\n",
      "Epoch 23/30\n",
      "26/26 [==============================] - 0s 19ms/step - loss: 0.0251 - accuracy: 0.9966\n",
      "Epoch 24/30\n",
      "26/26 [==============================] - 0s 19ms/step - loss: 0.0205 - accuracy: 0.9975\n",
      "Epoch 25/30\n",
      "26/26 [==============================] - 0s 18ms/step - loss: 0.0359 - accuracy: 0.9930\n",
      "Epoch 26/30\n",
      "26/26 [==============================] - 0s 18ms/step - loss: 0.0249 - accuracy: 0.9962\n",
      "Epoch 27/30\n",
      "26/26 [==============================] - 0s 18ms/step - loss: 0.0198 - accuracy: 0.9971\n",
      "Epoch 28/30\n",
      "26/26 [==============================] - 0s 18ms/step - loss: 0.0201 - accuracy: 0.9973\n",
      "Epoch 29/30\n",
      "26/26 [==============================] - 0s 18ms/step - loss: 0.0203 - accuracy: 0.9968\n",
      "Epoch 30/30\n",
      "26/26 [==============================] - 0s 18ms/step - loss: 0.0142 - accuracy: 0.9984\n"
     ]
    },
    {
     "data": {
      "text/plain": [
       "<tensorflow.python.keras.callbacks.History at 0x7fc53cf96510>"
      ]
     },
     "execution_count": 19,
     "metadata": {},
     "output_type": "execute_result"
    }
   ],
   "source": [
    "flower_classifier.fit(x_train,y_train,batch_size = 128,epochs = 30)\n"
   ]
  },
  {
   "cell_type": "code",
   "execution_count": 20,
   "id": "spectacular-minority",
   "metadata": {
    "execution": {
     "iopub.execute_input": "2021-03-29T07:39:39.372790Z",
     "iopub.status.busy": "2021-03-29T07:39:39.372260Z",
     "iopub.status.idle": "2021-03-29T07:39:39.805455Z",
     "shell.execute_reply": "2021-03-29T07:39:39.806115Z"
    },
    "papermill": {
     "duration": 0.542393,
     "end_time": "2021-03-29T07:39:39.806275",
     "exception": false,
     "start_time": "2021-03-29T07:39:39.263882",
     "status": "completed"
    },
    "tags": []
   },
   "outputs": [
    {
     "data": {
      "text/plain": [
       "array([[9.9752480e-01, 2.0114494e-04, 3.9640487e-25, 1.7898614e-06,\n",
       "        2.2722411e-03, 3.0776242e-08],\n",
       "       [8.0476868e-01, 1.4875597e-01, 5.5850923e-23, 3.9871316e-05,\n",
       "        1.5986367e-03, 4.4836711e-02],\n",
       "       [1.1495132e-01, 7.3658228e-08, 9.4555205e-31, 8.8504398e-01,\n",
       "        2.4748628e-08, 4.5864113e-06],\n",
       "       ...,\n",
       "       [3.5491074e-05, 2.3250030e-07, 4.2828846e-32, 9.9900848e-01,\n",
       "        9.5580565e-04, 3.8951849e-11],\n",
       "       [7.8108343e-03, 3.6896321e-07, 1.6953337e-30, 9.9082023e-01,\n",
       "        1.3685396e-03, 3.8134793e-09],\n",
       "       [9.9685174e-01, 9.9655484e-09, 7.5550621e-31, 2.3043195e-03,\n",
       "        2.3796711e-05, 8.2013366e-04]], dtype=float32)"
      ]
     },
     "execution_count": 20,
     "metadata": {},
     "output_type": "execute_result"
    }
   ],
   "source": [
    "test_case = flower_classifier.predict(x_test)\n",
    "test_case"
   ]
  },
  {
   "cell_type": "code",
   "execution_count": 21,
   "id": "greatest-superior",
   "metadata": {
    "execution": {
     "iopub.execute_input": "2021-03-29T07:39:40.022037Z",
     "iopub.status.busy": "2021-03-29T07:39:40.020171Z",
     "iopub.status.idle": "2021-03-29T07:39:40.022673Z",
     "shell.execute_reply": "2021-03-29T07:39:40.023158Z"
    },
    "papermill": {
     "duration": 0.110898,
     "end_time": "2021-03-29T07:39:40.023362",
     "exception": false,
     "start_time": "2021-03-29T07:39:39.912464",
     "status": "completed"
    },
    "tags": []
   },
   "outputs": [],
   "source": [
    "y_test_pred = np.argmax(test_case,axis = 1)"
   ]
  },
  {
   "cell_type": "code",
   "execution_count": 22,
   "id": "refined-surprise",
   "metadata": {
    "execution": {
     "iopub.execute_input": "2021-03-29T07:39:40.236978Z",
     "iopub.status.busy": "2021-03-29T07:39:40.236353Z",
     "iopub.status.idle": "2021-03-29T07:39:40.241570Z",
     "shell.execute_reply": "2021-03-29T07:39:40.241131Z"
    },
    "papermill": {
     "duration": 0.112457,
     "end_time": "2021-03-29T07:39:40.241683",
     "exception": false,
     "start_time": "2021-03-29T07:39:40.129226",
     "status": "completed"
    },
    "tags": []
   },
   "outputs": [
    {
     "data": {
      "text/plain": [
       "array([0, 0, 3, ..., 3, 3, 0])"
      ]
     },
     "execution_count": 22,
     "metadata": {},
     "output_type": "execute_result"
    }
   ],
   "source": [
    "y_test_pred"
   ]
  },
  {
   "cell_type": "code",
   "execution_count": 23,
   "id": "above-effects",
   "metadata": {
    "execution": {
     "iopub.execute_input": "2021-03-29T07:39:40.455623Z",
     "iopub.status.busy": "2021-03-29T07:39:40.453201Z",
     "iopub.status.idle": "2021-03-29T07:39:40.470723Z",
     "shell.execute_reply": "2021-03-29T07:39:40.469523Z"
    },
    "papermill": {
     "duration": 0.126193,
     "end_time": "2021-03-29T07:39:40.470914",
     "exception": false,
     "start_time": "2021-03-29T07:39:40.344721",
     "status": "completed"
    },
    "tags": []
   },
   "outputs": [
    {
     "name": "stdout",
     "output_type": "stream",
     "text": [
      "actual 0 predicted 0\n",
      "actual 0 predicted 0\n",
      "actual 3 predicted 3\n",
      "actual 0 predicted 1\n",
      "actual 5 predicted 1\n",
      "actual 4 predicted 5\n",
      "actual 3 predicted 3\n",
      "actual 4 predicted 1\n",
      "actual 1 predicted 1\n",
      "actual 4 predicted 4\n",
      "actual 4 predicted 4\n",
      "actual 5 predicted 5\n",
      "actual 1 predicted 1\n",
      "actual 0 predicted 1\n",
      "actual 1 predicted 1\n",
      "actual 0 predicted 0\n",
      "actual 3 predicted 3\n",
      "actual 4 predicted 5\n",
      "actual 3 predicted 4\n",
      "actual 3 predicted 3\n",
      "actual 1 predicted 1\n",
      "actual 0 predicted 0\n",
      "actual 0 predicted 1\n",
      "actual 4 predicted 4\n",
      "actual 1 predicted 1\n",
      "actual 1 predicted 0\n",
      "actual 1 predicted 1\n",
      "actual 1 predicted 0\n",
      "actual 4 predicted 0\n",
      "actual 1 predicted 1\n",
      "actual 5 predicted 5\n",
      "actual 4 predicted 4\n",
      "actual 5 predicted 4\n",
      "actual 3 predicted 3\n",
      "actual 1 predicted 1\n",
      "actual 0 predicted 4\n",
      "actual 5 predicted 5\n",
      "actual 4 predicted 4\n",
      "actual 0 predicted 0\n",
      "actual 1 predicted 0\n",
      "actual 4 predicted 4\n",
      "actual 5 predicted 0\n",
      "actual 5 predicted 1\n",
      "actual 5 predicted 0\n",
      "actual 1 predicted 0\n",
      "actual 1 predicted 4\n",
      "actual 5 predicted 5\n",
      "actual 5 predicted 5\n",
      "actual 3 predicted 3\n",
      "actual 4 predicted 4\n"
     ]
    }
   ],
   "source": [
    "for i in range(50):\n",
    "    print(\"actual\",y_test[i],\"predicted\",y_test_pred[i])"
   ]
  }
 ],
 "metadata": {
  "kernelspec": {
   "display_name": "Python 3",
   "language": "python",
   "name": "python3"
  },
  "language_info": {
   "codemirror_mode": {
    "name": "ipython",
    "version": 3
   },
   "file_extension": ".py",
   "mimetype": "text/x-python",
   "name": "python",
   "nbconvert_exporter": "python",
   "pygments_lexer": "ipython3",
   "version": "3.7.9"
  },
  "papermill": {
   "default_parameters": {},
   "duration": 64.732659,
   "end_time": "2021-03-29T07:39:43.025450",
   "environment_variables": {},
   "exception": null,
   "input_path": "__notebook__.ipynb",
   "output_path": "__notebook__.ipynb",
   "parameters": {},
   "start_time": "2021-03-29T07:38:38.292791",
   "version": "2.3.2"
  }
 },
 "nbformat": 4,
 "nbformat_minor": 5
}
